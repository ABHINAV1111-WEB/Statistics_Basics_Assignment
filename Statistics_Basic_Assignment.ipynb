{
  "nbformat": 4,
  "nbformat_minor": 0,
  "metadata": {
    "colab": {
      "provenance": []
    },
    "kernelspec": {
      "name": "python3",
      "display_name": "Python 3"
    },
    "language_info": {
      "name": "python"
    }
  },
  "cells": [
    {
      "cell_type": "markdown",
      "source": [
        "**1. What is statistics, and why is it important?**\n",
        "\n",
        "**Ans:**\n",
        "Statistics is the science of collecting, organizing, analyzing, interpreting, and presenting data. It’s like a toolkit for making sense of numbers and patterns in the world around us.\n",
        "\n",
        "**Here are a few reasons why statistics is important:**\n",
        "\n",
        "Informed Decision-Making: Whether it's in business, healthcare, or public policy, statistics helps leaders make data-driven decisions.\n",
        "\n",
        "Scientific Research: It is essential for designing experiments, analyzing results, and validating findings in science and medicine.\n",
        "\n",
        "Understanding Trends: Statistics allow us to identify trends and patterns, such as in market behavior or climate change.\n",
        "\n",
        "Risk Assessment: In industries like insurance and finance, statistics helps assess and mitigate risks.\n",
        "\n",
        "Everyday Applications: From sports analytics to opinion polls, statistics impacts our daily lives in countless ways."
      ],
      "metadata": {
        "id": "Gd3f5Yzc3U6H"
      }
    },
    {
      "cell_type": "markdown",
      "source": [
        "**2. What are the two main types of statistics?**\n",
        "\n",
        "Ans:\n",
        "**There are two main types of Statistics:**\n",
        "\n",
        "**Descriptive Statistics:**\n",
        " Summarizing and describing data—like calculating averages (mean), spread (standard deviation), or creating charts to show trends.\n",
        "\n",
        "**Inferential Statistics:**\n",
        " Drawing conclusions or making predictions based on data—like estimating a population’s behavior from a sample or testing hypotheses."
      ],
      "metadata": {
        "id": "ORfbh0sV39pF"
      }
    },
    {
      "cell_type": "markdown",
      "source": [
        "**3. What are descriptive statistics?**\n",
        "\n",
        "**Ans:**\n",
        "**Descriptive Statistics:**\n",
        " This type focuses on summarizing and organizing data to describe its main features. It includes measures like:\n",
        "\n",
        "Central Tendency (mean, median, mode): Shows the average or typical value in a dataset.\n",
        "\n",
        "Dispersion (range, variance, standard deviation): Illustrates the spread or variability of the data.\n",
        "\n",
        "Data Presentation (charts, graphs, tables): Helps visualize the data for easier interpretation."
      ],
      "metadata": {
        "id": "dQbRN9zk4lu0"
      }
    },
    {
      "cell_type": "markdown",
      "source": [
        "**4. What is inferential statistics?**\n",
        "\n",
        "**Ans:**\n",
        "**Inferential Statistics:**\n",
        " This type goes a step further and allows us to make predictions or generalizations about a population based on a sample of data. It involves:\n",
        "\n",
        "Estimation: Predicting population parameters (e.g., the average income of a country based on a sample).\n",
        "\n",
        "Hypothesis Testing: Checking the validity of a claim or assumption using statistical methods."
      ],
      "metadata": {
        "id": "10mOiBvc429Z"
      }
    },
    {
      "cell_type": "markdown",
      "source": [
        "**5. What is sampling in statistics?**\n",
        "\n",
        "**Ans:**\n",
        "Sampling in statistics refers to the process of selecting a subset of individuals, items, or observations from a larger population to study and analyze. The goal of sampling is to draw conclusions about the entire population based on the characteristics of the sample, rather than collecting data from every single member of the population (which is often impractical or impossible)."
      ],
      "metadata": {
        "id": "bkLbL1BP5D40"
      }
    },
    {
      "cell_type": "markdown",
      "source": [
        "**6. What are the different types of sampling methods?**\n",
        "\n",
        "**Ans:**\n",
        "**Different type of sampling method:**\n",
        "\n",
        "Simple Random Sampling: Each individual is selected randomly, ensuring every member has an equal chance of being chosen.\n",
        "\n",
        "Systematic Sampling: A starting point is selected randomly, and then every nth individual is chosen systematically.\n",
        "\n",
        "Stratified Sampling: The population is divided into subgroups (strata) based on specific characteristics, and random samples are taken from each stratum.\n",
        "\n",
        "Cluster Sampling: The population is divided into clusters (often geographical), and entire clusters are randomly selected for study.\n",
        "\n",
        "Non-Probability Sampling Metho"
      ],
      "metadata": {
        "id": "ywvANMZyLZFT"
      }
    },
    {
      "cell_type": "markdown",
      "source": [
        "**7. What is the difference between random and non-random sampling?**\n",
        "\n",
        "**Ans:**\n",
        "**Difference between Random and Non-Random Sampling:**\n",
        "\n",
        "**Random Sampling:**\n",
        "Selection:\tBy chance, equal opportunity\n",
        "Bias: Lower bias.\n",
        "Use case: Broad, representative studies.\n",
        "Reliability:Higher for generalizations.\n",
        "Example:Randomly polling 500 voters.\n",
        "\n",
        "**Non-Random Sampling:**\n",
        "Selection: Deliberate, based on criteria.\n",
        "Bias: More prone to bias.\n",
        "Use Case: Targeted or convenience studies.\n",
        "Reliability: Lower, more context-specific.\n",
        "Example: Asking 500 voters at a rally."
      ],
      "metadata": {
        "id": "GDbRWijNNGcW"
      }
    },
    {
      "cell_type": "markdown",
      "source": [
        "**8. Define and give examples of qualitative and quantitative data.**\n",
        "\n",
        "**Ans:**\n",
        "**Qualitative Data:**\n",
        "Definition:\n",
        "Data that describes qualities, characteristics, or attributes that cannot be measured numerically. It is often subjective and involves descriptive information.\n",
        "Example: Opinions: Customer feedback like “satisfied,” “neutral,” or “dissatisfied.”\n",
        "\n",
        "**Quantitative Data:**\n",
        "Definition:\n",
        "Data that can be measured, counted, or expressed numerically. It is objective and often used for statistical analysis.\n",
        "Examples: Temperature: Recorded daily temperatures (e.g., 32°C, 28°C)."
      ],
      "metadata": {
        "id": "Ql1QQPuyPkxI"
      }
    },
    {
      "cell_type": "markdown",
      "source": [
        "**9. What are the different types of data in statistics?**\n",
        "\n",
        "**Ans:**\n",
        "**Different types of data in Statistics:**\n",
        "\n",
        "1. Qualitative Data:\n",
        "Also known as categorical data, this type describes qualities or categories and is not numerical.\n",
        "\n",
        "Nominal Data: Represents categories with no inherent order (e.g., eye color, blood type).\n",
        "\n",
        "Ordinal Data: Represents categories with a meaningful order but no measurable distance between values (e.g., rankings like \"good,\" \"better,\" \"best\").\n",
        "\n",
        "2. Quantitative Data:\n",
        "This type involves numerical values and can be measured.\n",
        "\n",
        "Discrete Data: Represents countable values (e.g., number of students in a class, number of cars in a parking lot).\n",
        "\n",
        "Continuous Data: Represents measurable values that can take any value within a range (e.g., height, weight, temperature).\n",
        "\n",
        "3. Primary and Secondary Data:\n",
        "Primary Data: Collected firsthand by the researcher (e.g., survey responses, experimental results).\n",
        "\n",
        "Secondary Data: Previously collected and available for use (e.g., government reports, historical datasets)."
      ],
      "metadata": {
        "id": "TyR4oxRoQgv7"
      }
    },
    {
      "cell_type": "markdown",
      "source": [
        "**10.  Explain nominal, ordinal, interval, and ratio levels of measurement.**\n",
        "\n",
        "**Ans:**\n",
        "**1. Nominal Level:**\n",
        "Definition: Data is categorized into distinct, non-overlapping groups with no inherent order.\n",
        "\n",
        "Characteristics:\n",
        "\n",
        "-> Categories are purely labels\n",
        "(qualitative).\n",
        "\n",
        "-> No numerical or ranking value.\n",
        "\n",
        "Examples: Gender (male, female), types of fruit (apple, orange, banana), eye color (blue, brown, green).\n",
        "\n",
        "**2. Ordinal Level:**\n",
        "Definition: Data is categorized into ordered categories, where the order matters, but the differences between values are not meaningful.\n",
        "\n",
        "Characteristics:\n",
        "\n",
        "Can rank items, but gaps between ranks are not uniform or measurable.\n",
        "\n",
        "Examples: Rankings (first, second, third), levels of agreement (strongly agree, agree, neutral, disagree).\n",
        "\n",
        "**3. Interval Level:**\n",
        "Definition: Data is ordered, and the difference between values is meaningful, but there is no true zero point.\n",
        "\n",
        "Characteristics:\n",
        "\n",
        "Equal intervals between values.\n",
        "\n",
        "Arithmetic operations like addition and subtraction are meaningful.\n",
        "\n",
        "Cannot calculate ratios.\n",
        "\n",
        "Examples: Temperature in Celsius or Fahrenheit (e.g., 20°C vs. 30°C), calendar years (e.g., 2000, 2020)."
      ],
      "metadata": {
        "id": "nYtwIxLFRWew"
      }
    },
    {
      "cell_type": "markdown",
      "source": [
        "**11. What is the measure of central tendency?**\n",
        "\n",
        "**Ans:**\n",
        "A measure of central tendency is a statistical metric that identifies a single value as representative of the \"center\" or typical value of a data set. It provides an indication of where most data points tend to cluster, making it easier to understand and compare data.\n",
        "Generally it is measured by Mean(Average), Median,Mode"
      ],
      "metadata": {
        "id": "5EonXixkTrBP"
      }
    },
    {
      "cell_type": "markdown",
      "source": [
        "**12**. **Define mean, median, and mode.**\n",
        "\n",
        "**Ans:**\n",
        "**Mean (Average):**\n",
        "\n",
        "Definition: The sum of all values divided by the number of values.\n",
        "\n",
        "Example: For the data set {5, 8, 11}, the mean is\n",
        "(5+8+11)/3= 8\n",
        "Best Used When: The data has no extreme outliers, as outliers can significantly skew the mean.\n",
        "\n",
        "**Median:**\n",
        "\n",
        "Definition: The middle value when data is arranged in ascending or descending order.\n",
        "\n",
        "Example: For {5, 10, 15}, the median is 10. If the number of data points is even, it’s the average of the two middle values.\n",
        "\n",
        "Best Used When: There are extreme outliers or skewed data, as the median is less affected by them.\n",
        "\n",
        "**Mode:**\n",
        "\n",
        "Definition: The most frequently occurring value(s) in the data set.\n",
        "\n",
        "Example: For {5, 5, 10, 15}, the mode is 5.\n",
        "\n",
        "Best Used When: Analyzing categorical data or identifying the most common value."
      ],
      "metadata": {
        "id": "Ve1cNCcKU-e4"
      }
    },
    {
      "cell_type": "markdown",
      "source": [
        "**13. What is the significance of the measure of central tendency?**\n",
        "\n",
        "**Ans:**\n",
        "The measure of central tendency simplifies and represents data, aids comparisons, drives decisions, and underpins advanced statistical methods. Its practical utility spans multiple fields, making it essential for analyzing and interpreting data effectively."
      ],
      "metadata": {
        "id": "XfSVxHWcWDJ9"
      }
    },
    {
      "cell_type": "markdown",
      "source": [
        "**14. What is variance, and how is it calculated?**\n",
        "\n",
        "**Ans:**\n",
        "Variance is a statistical measure that quantifies the spread or dispersion of data points in a dataset around the mean (average). It shows how much the values differ from the mean and from each other.\n",
        "\n",
        "Steps of Calculation:\n",
        "\n",
        "Find the Mean: Add all the numbers and divide by the count.\n",
        "\n",
        "Subtract the Mean: For each number, subtract the mean and square the result (this eliminates negatives and emphasizes differences).\n",
        "\n",
        "Average the Squared Differences:\n",
        "For population: Divide by N.\n",
        "For sample: Divide by n-1.\n",
        "\n",
        "Result: That's your variance!"
      ],
      "metadata": {
        "id": "rpuHHinoWaSu"
      }
    },
    {
      "cell_type": "markdown",
      "source": [
        "**15. What is standard deviation, and why is it important?**\n",
        "\n",
        "**Ans:**\n",
        "Standard deviation is a statistical measure that quantifies the amount of variation or dispersion in a set of data values. In simpler terms, it tells you how spread out the numbers in your dataset are from the mean (average).\n",
        "\n",
        "**Why is it important:**\n",
        "\n",
        "Understanding Data Variability: Standard deviation helps identify how consistent or diverse the data is, which is crucial in fields like finance, science, and quality control.\n",
        "\n",
        "Comparing Datasets: It allows for comparison between different datasets to see which one has more variability.\n",
        "\n",
        "Predicting Outcomes: In probability and statistics, standard deviation plays a key role in understanding risk, uncertainty, and predicting outcomes.\n",
        "\n",
        "Making Informed Decisions: It helps businesses and researchers make data-driven decisions by analyzing trends and anomalies."
      ],
      "metadata": {
        "id": "nGEehRy6YxsB"
      }
    },
    {
      "cell_type": "markdown",
      "source": [
        "**16. Define and explain the term range in statistics.**\n",
        "\n",
        "**Ans:**\n",
        "**Defination:**\n",
        "The range in statistics is the difference between the highest (maximum) and lowest (minimum) values in a dataset. It’s a quick way to see how spread out the numbers are, giving you a snapshot of the data’s variability at its extremes.\n",
        "\n",
        "Formula:\n",
        "   Range= Maximum-Minimum\n",
        "\n",
        "**Why it’s Useful:**\n",
        "\n",
        "Quick Insight: It’s the fastest way to gauge spread—no complex math needed.\n",
        "\n",
        "Spotting Extremes: It flags outliers or unusual highs/lows, like a stock’s price swing in a volatile month.\n",
        "\n",
        "Comparison: You can compare datasets—like two IPL teams’ scoring ranges to see which is more erratic."
      ],
      "metadata": {
        "id": "zcca7xEfid0m"
      }
    },
    {
      "cell_type": "markdown",
      "source": [
        "**17. What is the difference between variance and standard deviation?**\n",
        "\n",
        "**Ans:**\n",
        "**Variance:**\n",
        "\n",
        "Definition: Average of squared deviations from the mean\n",
        "Symbol: σ**2(population)\n",
        "Units: Squared units\n",
        "Formula: σ**2=Sigma(x_i-mu)**2/N\n",
        "Interpretation: Abtract measure of spread\n",
        "Magnitude:Larger (squared values)\n",
        "\n",
        "**Standard Deviation:**\n",
        "\n",
        "Definition: Square root of variance\n",
        "Symbol: σ (population)\n",
        "Units: Original units\n",
        "Formula: σ= square root of σ**2\n",
        "Interpretation: Practical measure of typical deviation.\n",
        "Magnitude:Smaller (rooted back to original scale)\n",
        "\n",
        "**Breaking Down the Difference:**\n",
        "\n",
        "Units:\n",
        "Variance: 250 runs² (squared runs—what does that even mean in real life?).\n",
        "Standard Deviation: 15.81 runs (makes sense as a typical deviation in runs scored).\n",
        "Why it matters: Standard deviation is more intuitive because it matches the data’s scale.    \n",
        "\n",
        "Purpose:\n",
        "Variance: A foundational step—used in formulas (e.g., ANOVA, regression) and to compute standard deviation. It emphasizes larger deviations due to squaring.\n",
        "Standard Deviation: A practical tool for interpreting spread. It’s the go-to for understanding “how far off” values typically are.\n",
        "\n",
        "Sensitivity:\n",
        "Both highlight spread, but variance amplifies outliers more (since it squares differences). Standard deviation tones this down by rooting it."
      ],
      "metadata": {
        "id": "G1xQt6OfjosW"
      }
    },
    {
      "cell_type": "markdown",
      "source": [
        "**18. What is skewness in a dataset?**\n",
        "\n",
        "**Ans:**\n",
        "Skewness in a dataset is a measure of the asymmetry of the data distribution around its mean. Essentially, it indicates whether the data is skewed or tilted more towards one side of the mean than the other."
      ],
      "metadata": {
        "id": "lL2IadZ1nd_R"
      }
    },
    {
      "cell_type": "markdown",
      "source": [
        "**19. What does it mean if a dataset is positively or negatively skewed?**\n",
        "\n",
        "**Ans:**\n",
        "If a dataset is positively or negatively skewed, it reflects the asymmetry in the distribution of data values around the mean:\n",
        "\n",
        "**Positive Skew (Right-Skewed):**\n",
        "\n",
        "The tail on the right side is longer.\n",
        "\n",
        "Most data points cluster on the lower end of values.\n",
        "\n",
        "The mean is usually greater than the median because a few larger values pull it upward.\n",
        "\n",
        "**Negative Skew (Left-Skewed):**\n",
        "The tail on the left side is longer.\n",
        "\n",
        "Most data points concentrate on the higher end of values.\n",
        "\n",
        "The mean is usually less than the median because a few smaller values pull it downward."
      ],
      "metadata": {
        "id": "fsm5FTDtnoeS"
      }
    },
    {
      "cell_type": "markdown",
      "source": [
        "**20. Define and explain kurtosis.**\n",
        "\n",
        "**Ans:**\n",
        "Kurtosis is a statistical measure that describes the shape of a dataset's distribution, specifically the \"tailedness\" or the presence of extreme values. It provides insights into how much of the data lies in the tails compared to a normal distribution.\n",
        "\n",
        "**Types of Kurtosis:**\n",
        "\n",
        "1. Mesokurtic:\n",
        "\n",
        "This is the kurtosis of a normal distribution.\n",
        "\n",
        "It has a kurtosis value of 3 (sometimes excess kurtosis is used, which is kurtosis - 3, making it 0 for a normal distribution).\n",
        "\n",
        "The tails are neither heavy nor light compared to a normal curve.\n",
        "\n",
        "2. Leptokurtic:\n",
        "\n",
        "The distribution has \"heavier\" or thicker tails than a normal distribution.\n",
        "\n",
        "Indicates more extreme outliers or higher peakedness.\n",
        "\n",
        "Example: Stock market returns often exhibit leptokurtic behavior due to frequent extreme price changes.\n",
        "\n",
        "3. Platykurtic:\n",
        "\n",
        "The distribution has \"lighter\" or thinner tails than a normal distribution.\n",
        "\n",
        "Indicates fewer extreme outliers and a flatter peak.\n",
        "\n",
        "Example: A uniform distribution is an example of a platykurtic distribution.\n",
        "\n",
        "**Importance of Kurtosis:**\n",
        "\n",
        "Understand Risk: In fields like finance, kurtosis helps in understanding the likelihood of extreme events (like crashes or booms).\n",
        "\n",
        "Identify Outliers: High kurtosis may suggest the presence of significant outliers in the data.\n",
        "\n",
        "Modeling Data: It assists in selecting the appropriate statistical models and methods for analysis."
      ],
      "metadata": {
        "id": "P9oRUxCQoSfI"
      }
    },
    {
      "cell_type": "markdown",
      "source": [
        "**21. What is the purpose of covariance?**\n",
        "\n",
        "**Ans:**\n",
        "Covariance is a statistical measure that describes the degree to which two variables change together. In essence, it helps determine whether there is a relationship between two variables and, if so, whether that relationship is positive or negative."
      ],
      "metadata": {
        "id": "N42AR4hmo6NG"
      }
    },
    {
      "cell_type": "markdown",
      "source": [
        "**22. What does correlation measure in statistics?**\n",
        "\n",
        "**Ans:**\n",
        "Correlation in statistics measures the strength and direction of the relationship between two variables. It quantifies how closely the variables are related and whether changes in one variable correspond to changes in the other."
      ],
      "metadata": {
        "id": "vN7U8C-ipjuA"
      }
    },
    {
      "cell_type": "markdown",
      "source": [
        "**23. What is the difference between covariance and correlation?**\n",
        "\n",
        "**Ans:**\n",
        "Covariance\n",
        "Definition: Covariance measures the degree to which two variables change together. It identifies whether the relationship is positive or negative.\n",
        "\n",
        "Scale: Covariance is not standardized, so its value depends on the scale of the variables. It can range from very large negative to very large positive values, making direct interpretation challenging.\n",
        "\n",
        "Purpose: Mainly used as a foundational concept for calculating correlation.\n",
        "\n",
        "Formula:\n",
        "Cov(X,Y)= Sigma((x_i-xbar)(y_i-ybar))/n\n",
        "\n",
        "**Correlation:**\n",
        "\n",
        "Definition: Correlation standardizes covariance to a scale of -1 to +1, making it easier to interpret. It measures both the strength and direction of the relationship between two variables.\n",
        "\n",
        "Scale: Always between -1 (perfect negative correlation) and +1 (perfect positive correlation), with 0 indicating no linear relationship.\n",
        "\n",
        "Purpose: Widely used for interpreting and comparing relationships across datasets.\n",
        "\n",
        "**Formula:**\n",
        " r= Cov(X,Y)/𝜎x-𝜎y\n"
      ],
      "metadata": {
        "id": "sSyhaY65pyOF"
      }
    },
    {
      "cell_type": "markdown",
      "source": [
        "**24. What are some real-world applications of statistics?**\n",
        "\n",
        "**Ans:**\n",
        "Statistics play a vital role in various real-world scenarios across industries. Here are some key applications:\n",
        "\n",
        "1. Business and Marketing\n",
        "Market Research: Analyzing customer behavior and preferences to design effective campaigns.\n",
        "\n",
        "Quality Control: Monitoring product defects and improving manufacturing processes.\n",
        "\n",
        "Forecasting: Predicting sales trends and revenue using historical data.\n",
        "\n",
        "2. Healthcare\n",
        "Epidemiology: Tracking disease spread and evaluating the effectiveness of treatments.\n",
        "\n",
        "Clinical Trials: Assessing the safety and efficacy of medications and interventions.\n",
        "\n",
        "Healthcare Planning: Allocating resources based on patient demographics and health statistics.\n",
        "\n",
        "3. Education\n",
        "Performance Analysis: Evaluating student scores and identifying areas for improvement.\n",
        "\n",
        "Research Studies: Supporting academic research with statistical methods.\n",
        "\n",
        "Policy Formation: Guiding decisions on education reforms through data analysis.\n",
        "\n",
        "4. Finance and Economics\n",
        "Risk Analysis: Estimating investment risks and returns.\n",
        "\n",
        "Economic Forecasting: Predicting inflation, unemployment rates, and economic trends.\n",
        "\n",
        "Fraud Detection: Identifying irregularities in financial transactions.\n",
        "\n",
        "5. Environmental Science\n",
        "Climate Change Studies: Analyzing weather patterns and global temperature changes.\n",
        "\n",
        "Resource Management: Studying population growth and resource consumption.\n",
        "\n",
        "Pollution Monitoring: Measuring air, water, and soil quality to enforce regulations.\n",
        "\n",
        "6. Sports\n",
        "Performance Metrics: Tracking player statistics and team performance.\n",
        "\n",
        "Game Strategy: Using data to optimize tactics and predict opponents' moves.\n",
        "\n",
        "Talent Scouting: Identifying promising athletes based on statistical analysis.\n",
        "\n",
        "7. Government and Public Policy\n",
        "Census Data: Understanding population demographics for planning infrastructure and social programs.\n",
        "\n",
        "Crime Analysis: Studying crime patterns to improve policing and public safety.\n",
        "\n",
        "Policy Evaluation: Measuring the impact of implemented policies."
      ],
      "metadata": {
        "id": "jf877GexrhcK"
      }
    },
    {
      "cell_type": "markdown",
      "source": [
        "**Practical**"
      ],
      "metadata": {
        "id": "shog1MIOsQBr"
      }
    },
    {
      "cell_type": "markdown",
      "source": [
        "**1. How do you calculate the mean, median, and mode of a dataset?**\n",
        "\n",
        "**Ans:**\n",
        "**1. Mean (Average):**\n",
        "\n",
        "Formula: Mean = (Sum of all values) / (Number of values)\n",
        "\n",
        "Example: For the dataset: 5, 7, 9 Mean = (5 + 7 + 9) / 3 Mean = 21 / 3 = 7\n",
        "\n",
        "**2. Median:**\n",
        "Steps:\n",
        "\n",
        "Arrange the data in ascending order.\n",
        "\n",
        "Identify the middle value.\n",
        "\n",
        "If the dataset has an odd number of values, the middle value is the median.\n",
        "\n",
        "If the dataset has an even number of values, the median is the average of the two middle values.\n",
        "\n",
        "Example:\n",
        "For an odd-numbered dataset: 2, 4, 7 Median = 4\n",
        "\n",
        "For an even-numbered dataset: 1, 3, 5, 7 Median = (3 + 5) / 2 = 4\n",
        "\n",
        "**3. Mode:**\n",
        "The mode is the value that appears most frequently in the dataset.\n",
        "\n",
        "Example:\n",
        "\n",
        "For the dataset: 3, 3, 6, 7, 9 Mode = 3\n",
        "\n",
        "For the dataset: 1, 2, 2, 3, 3 Modes = 2 and 3 (bimodal)."
      ],
      "metadata": {
        "id": "xunpFReEsWk0"
      }
    },
    {
      "cell_type": "markdown",
      "source": [
        "**2. Write a Python program to compute the variance and standard deviation of a dataset?**"
      ],
      "metadata": {
        "id": "StuXJxEjtx3K"
      }
    },
    {
      "cell_type": "code",
      "source": [
        "\n",
        "def calculate_variance(data):\n",
        "    mean = sum(data) / len(data)\n",
        "    squared_differences = [(x - mean) ** 2 for x in data]\n",
        "    variance = sum(squared_differences) / len(data)\n",
        "    return variance\n",
        "\n",
        "def calculate_standard_deviation(variance):\n",
        "    return variance ** 0.5\n",
        "\n",
        "data = [10, 20, 30, 40, 50]\n",
        "\n",
        "variance = calculate_variance(data)\n",
        "standard_deviation = calculate_standard_deviation(variance)\n",
        "\n",
        "print(\"Variance:\", variance)\n",
        "print(\"Standard Deviation:\", standard_deviation)\n"
      ],
      "metadata": {
        "colab": {
          "base_uri": "https://localhost:8080/"
        },
        "id": "5j29Fb6kt-QZ",
        "outputId": "30138eea-5d9d-4460-d191-a90dd8309e98"
      },
      "execution_count": 1,
      "outputs": [
        {
          "output_type": "stream",
          "name": "stdout",
          "text": [
            "Variance: 200.0\n",
            "Standard Deviation: 14.142135623730951\n"
          ]
        }
      ]
    },
    {
      "cell_type": "markdown",
      "source": [
        "**3. Create a dataset and classify it into nominal, ordinal, interval, and ratio types.**\n",
        "\n",
        "**Ans:**\n",
        "Dataset: Information about a group of employees in a company\n",
        "\n",
        "Names of employees: Alice, Raj, Ahmed, Priya (Nominal)\n",
        "\n",
        "Departments they work in: HR, Finance, IT, Marketing (Nominal)\n",
        "\n",
        "Job satisfaction levels: Very Dissatisfied, Neutral, Satisfied, Very Satisfied (Ordinal)\n",
        "\n",
        "Age of employees: 25, 30, 35, 40 years (Ratio)\n",
        "\n",
        "Monthly salaries: 25,000 INR, 50,000 INR, 75,000 INR, 1,00,000 INR (Ratio)\n",
        "\n",
        "Years of experience: 2, 5, 10, 15 years (Ratio)\n",
        "\n",
        "Room temperatures of office cabins: 22 degrees Celsius, 24 degrees Celsius, 26 degrees Celsius (Interval)\n",
        "\n",
        "Classification:\n",
        "\n",
        "Nominal Data:\n",
        "\n",
        "Names and departments are categorical data without any order.\n",
        "\n",
        "Ordinal Data:\n",
        "\n",
        "Job satisfaction levels have an implied order but no measurable difference between the levels.\n",
        "\n",
        "Interval Data:\n",
        "\n",
        "Room temperatures in degrees Celsius, where the difference between values is meaningful, but there is no true zero.\n",
        "\n",
        "Ratio Data:\n",
        "\n",
        "Age, monthly salaries, and years of experience, as these have a true zero point and meaningful ratios (e.g., twice the salary or experience)."
      ],
      "metadata": {
        "id": "7vXTM9OhuXg9"
      }
    },
    {
      "cell_type": "markdown",
      "source": [
        "**4. Implement sampling techniques like random sampling and stratified sampling.**\n",
        "\n",
        "**Ans:**"
      ],
      "metadata": {
        "id": "IVs2Amp7vCpE"
      }
    },
    {
      "cell_type": "code",
      "source": [
        "import random\n",
        "\n",
        "data = [1, 2, 3, 4, 5, 6, 7, 8, 9, 10]\n",
        "\n",
        "# Random sampling - select 4 random samples\n",
        "random_samples = random.sample(data, 4)\n",
        "\n",
        "print(\"Random Sampling:\", random_samples)\n"
      ],
      "metadata": {
        "colab": {
          "base_uri": "https://localhost:8080/"
        },
        "id": "0RvqwXc1vucw",
        "outputId": "37a5789f-ffb7-4bce-892a-dc95a01626b7"
      },
      "execution_count": 2,
      "outputs": [
        {
          "output_type": "stream",
          "name": "stdout",
          "text": [
            "Random Sampling: [7, 1, 6, 8]\n"
          ]
        }
      ]
    },
    {
      "cell_type": "code",
      "source": [
        "import pandas as pd\n",
        "from sklearn.model_selection import train_test_split\n",
        "\n",
        "data = {\n",
        "    \"ID\": [1, 2, 3, 4, 5, 6, 7, 8, 9, 10],\n",
        "    \"Group\": [\"A\", \"A\", \"B\", \"B\", \"B\", \"C\", \"C\", \"C\", \"C\", \"C\"]\n",
        "}\n",
        "\n",
        "df = pd.DataFrame(data)\n",
        "\n",
        "# Stratified sampling - split the data proportionally based on 'Group'\n",
        "stratified_sample = df.groupby(\"Group\", group_keys=False).apply(\n",
        "    lambda x: x.sample(frac=0.5)  # Taking 50% sample from each group\n",
        ")\n",
        "\n",
        "print(\"Stratified Sampling:\")\n",
        "print(stratified_sample)\n"
      ],
      "metadata": {
        "colab": {
          "base_uri": "https://localhost:8080/"
        },
        "id": "iEy-95-3v37S",
        "outputId": "8a165392-44f9-4017-c973-5fc66b6470d3"
      },
      "execution_count": 3,
      "outputs": [
        {
          "output_type": "stream",
          "name": "stdout",
          "text": [
            "Stratified Sampling:\n",
            "   ID Group\n",
            "1   2     A\n",
            "2   3     B\n",
            "3   4     B\n",
            "7   8     C\n",
            "5   6     C\n"
          ]
        },
        {
          "output_type": "stream",
          "name": "stderr",
          "text": [
            "<ipython-input-3-483edd9b1219>:14: DeprecationWarning: DataFrameGroupBy.apply operated on the grouping columns. This behavior is deprecated, and in a future version of pandas the grouping columns will be excluded from the operation. Either pass `include_groups=False` to exclude the groupings or explicitly select the grouping columns after groupby to silence this warning.\n",
            "  stratified_sample = df.groupby(\"Group\", group_keys=False).apply(\n"
          ]
        }
      ]
    },
    {
      "cell_type": "markdown",
      "source": [
        "**5. Write a Python function to calculate the range of a dataset.**\n",
        "\n",
        "**Ans:**"
      ],
      "metadata": {
        "id": "ypswHZFNwEDy"
      }
    },
    {
      "cell_type": "code",
      "source": [
        "\n",
        "def calculate_range(data):\n",
        "    if len(data) == 0:\n",
        "        return \"Dataset is empty\"\n",
        "    maximum = max(data)\n",
        "    minimum = min(data)\n",
        "    range_value = maximum - minimum\n",
        "    return range_value\n",
        "\n",
        "data = [15, 8, 23, 42, 4, 16]\n",
        "\n",
        "range_result = calculate_range(data)\n",
        "print(\"Range of the dataset:\", range_result)\n"
      ],
      "metadata": {
        "colab": {
          "base_uri": "https://localhost:8080/"
        },
        "id": "X7XM1imrwN4q",
        "outputId": "868a52e1-aa0b-4ce5-ea21-0f4e2012f5e0"
      },
      "execution_count": 4,
      "outputs": [
        {
          "output_type": "stream",
          "name": "stdout",
          "text": [
            "Range of the dataset: 38\n"
          ]
        }
      ]
    },
    {
      "cell_type": "markdown",
      "source": [
        "**6. Create a dataset and plot its histogram to visualize skewness.**\n",
        "\n",
        "**Ans:**"
      ],
      "metadata": {
        "id": "UtIs6D-YwXAm"
      }
    },
    {
      "cell_type": "code",
      "source": [
        "import numpy as np\n",
        "import matplotlib.pyplot as plt\n",
        "\n",
        "# Create a dataset\n",
        "# Positively skewed dataset (right-skewed)\n",
        "data = np.random.exponential(scale=2, size=1000)  # Generating 1000 values using an exponential distribution\n",
        "\n",
        "# Plot the histogram\n",
        "plt.hist(data, bins=30, color='skyblue', edgecolor='black', alpha=0.7)\n",
        "plt.title('Histogram to Visualize Skewness')\n",
        "plt.xlabel('Data Values')\n",
        "plt.ylabel('Frequency')\n",
        "plt.grid(axis='y', alpha=0.75)\n",
        "plt.show()\n"
      ],
      "metadata": {
        "colab": {
          "base_uri": "https://localhost:8080/",
          "height": 472
        },
        "id": "2M7lCy27wjc-",
        "outputId": "b276c3c9-d92d-452f-e843-257f27da68f0"
      },
      "execution_count": 5,
      "outputs": [
        {
          "output_type": "display_data",
          "data": {
            "text/plain": [
              "<Figure size 640x480 with 1 Axes>"
            ],
            "image/png": "[encoded data removed]"
          },
          "metadata": {}
        }
      ]
    },
    {
      "cell_type": "markdown",
      "source": [
        "**7. Calculate skewness and kurtosis of a dataset using Python libraries.**\n",
        "\n",
        "**Ans:**"
      ],
      "metadata": {
        "id": "CDNFj6ePwqGb"
      }
    },
    {
      "cell_type": "code",
      "source": [
        "import pandas as pd\n",
        "from scipy.stats import skew, kurtosis\n",
        "\n",
        "data = [15, 20, 35, 40, 50, 55, 60, 65, 70, 75]\n",
        "\n",
        "data_skewness = skew(data)\n",
        "data_kurtosis = kurtosis(data)\n",
        "\n",
        "print(\"Skewness of the dataset:\", data_skewness)\n",
        "print(\"Kurtosis of the dataset:\", data_kurtosis)\n",
        "\n",
        "df = pd.DataFrame(data, columns=[\"Values\"])\n",
        "print(\"\\nSkewness (using pandas):\", df[\"Values\"].skew())\n",
        "print(\"Kurtosis (using pandas):\", df[\"Values\"].kurt())\n"
      ],
      "metadata": {
        "colab": {
          "base_uri": "https://localhost:8080/"
        },
        "id": "EDAigGUHwzkd",
        "outputId": "b52563e7-26da-4f4a-969c-0714e1cc6d69"
      },
      "execution_count": 7,
      "outputs": [
        {
          "output_type": "stream",
          "name": "stdout",
          "text": [
            "Skewness of the dataset: -0.39083598846912454\n",
            "Kurtosis of the dataset: -1.0926347376051517\n",
            "\n",
            "Skewness (using pandas): -0.46347446817215215\n",
            "Kurtosis (using pandas): -0.9673364111233935\n"
          ]
        }
      ]
    },
    {
      "cell_type": "markdown",
      "source": [
        "8. Generate a dataset and demonstrate positive and negative skewness.\n",
        "\n",
        "**Ans:**"
      ],
      "metadata": {
        "id": "rT27HgDmw62l"
      }
    },
    {
      "cell_type": "code",
      "source": [
        "import numpy as np\n",
        "import matplotlib.pyplot as plt\n",
        "\n",
        "positive_skew = np.random.exponential(scale=2, size=1000)\n",
        "\n",
        "negative_skew = -np.random.exponential(scale=2, size=1000) + 10  # Inverting and shifting for left-skewness\n",
        "\n",
        "\n",
        "plt.figure(figsize=(12, 6))\n",
        "\n",
        "plt.subplot(1, 2, 1)\n",
        "plt.hist(positive_skew, bins=30, color='skyblue', edgecolor='black', alpha=0.7)\n",
        "plt.title('Positive Skew (Right-Skewed)')\n",
        "plt.xlabel('Data Values')\n",
        "plt.ylabel('Frequency')\n",
        "\n",
        "plt.subplot(1, 2, 2)\n",
        "plt.hist(negative_skew, bins=30, color='salmon', edgecolor='black', alpha=0.7)\n",
        "plt.title('Negative Skew (Left-Skewed)')\n",
        "plt.xlabel('Data Values')\n",
        "plt.ylabel('Frequency')\n",
        "\n",
        "plt.tight_layout()\n",
        "plt.show()\n"
      ],
      "metadata": {
        "colab": {
          "base_uri": "https://localhost:8080/",
          "height": 464
        },
        "id": "6sKNZ5S4xFkc",
        "outputId": "447f38fe-651f-49ee-9bf1-a207761d7033"
      },
      "execution_count": 9,
      "outputs": [
        {
          "output_type": "display_data",
          "data": {
            "text/plain": [
              "<Figure size 1200x600 with 2 Axes>"
            ],
            "image/png": "[encoded data removed]"
          },
          "metadata": {}
        }
      ]
    },
    {
      "cell_type": "markdown",
      "source": [
        "**9. Write a Python script to calculate covariance between two datasets.**\n",
        "\n",
        "**Ans:**"
      ],
      "metadata": {
        "id": "EOeImKcnxQd7"
      }
    },
    {
      "cell_type": "code",
      "source": [
        "import numpy as np\n",
        "def calculate_covariance(dataset1, dataset2):\n",
        "    if len(dataset1) != len(dataset2):\n",
        "        return \"Datasets must have the same length.\"\n",
        "\n",
        "    mean1 = sum(dataset1) / len(dataset1)\n",
        "    mean2 = sum(dataset2) / len(dataset2)\n",
        "\n",
        "    covariance = sum((x - mean1) * (y - mean2) for x, y in zip(dataset1, dataset2)) / len(dataset1)\n",
        "    return covariance\n",
        "\n",
        "dataset1 = [10, 20, 30, 40, 50]\n",
        "dataset2 = [15, 25, 35, 45, 55]\n",
        "\n",
        "covariance = calculate_covariance(dataset1, dataset2)\n",
        "print(\"Covariance between the datasets:\", covariance)\n"
      ],
      "metadata": {
        "colab": {
          "base_uri": "https://localhost:8080/"
        },
        "id": "D1cSzslFxZxH",
        "outputId": "2c1c20a5-7d39-4a54-c7fc-9d5a41c3b6bb"
      },
      "execution_count": 10,
      "outputs": [
        {
          "output_type": "stream",
          "name": "stdout",
          "text": [
            "Covariance between the datasets: 200.0\n"
          ]
        }
      ]
    },
    {
      "cell_type": "markdown",
      "source": [
        "**10. Write a Python script to calculate the correlation coefficient between two datasets.**\n",
        "\n",
        "**Ans:**"
      ],
      "metadata": {
        "id": "SaXDRM9ixfrf"
      }
    },
    {
      "cell_type": "code",
      "source": [
        "import numpy as np\n",
        "\n",
        "# Function to calculate correlation coefficient manually\n",
        "def calculate_correlation(dataset1, dataset2):\n",
        "    if len(dataset1) != len(dataset2):\n",
        "        return \"Datasets must have the same length.\"\n",
        "\n",
        "    mean1 = sum(dataset1) / len(dataset1)\n",
        "    mean2 = sum(dataset2) / len(dataset2)\n",
        "\n",
        "    numerator = sum((x - mean1) * (y - mean2) for x, y in zip(dataset1, dataset2))\n",
        "    denominator = (sum((x - mean1) ** 2 for x in dataset1) * sum((y - mean2) ** 2 for y in dataset2)) ** 0.5\n",
        "    correlation_coefficient = numerator / denominator\n",
        "    return correlation_coefficient\n",
        "\n",
        "dataset1 = [10, 20, 30, 40, 50]\n",
        "dataset2 = [15, 25, 35, 45, 55]\n",
        "\n",
        "correlation_manual = calculate_correlation(dataset1, dataset2)\n",
        "\n",
        "correlation_numpy = np.corrcoef(dataset1, dataset2)[0, 1]  # Retrieves correlation coefficient\n",
        "\n",
        "print(\"Correlation Coefficient (Manual):\", correlation_manual)\n",
        "print(\"Correlation Coefficient (NumPy):\", correlation_numpy)\n"
      ],
      "metadata": {
        "colab": {
          "base_uri": "https://localhost:8080/"
        },
        "id": "oG-vxpywxoDx",
        "outputId": "94fc390e-c0c6-4a2f-b516-6b19c8a149f5"
      },
      "execution_count": 11,
      "outputs": [
        {
          "output_type": "stream",
          "name": "stdout",
          "text": [
            "Correlation Coefficient (Manual): 1.0\n",
            "Correlation Coefficient (NumPy): 1.0\n"
          ]
        }
      ]
    },
    {
      "cell_type": "markdown",
      "source": [
        "**11. Create a scatter plot to visualize the relationship between two variables.**\n",
        "\n",
        "**Ans:**"
      ],
      "metadata": {
        "id": "J2Qc2NtNxuG7"
      }
    },
    {
      "cell_type": "code",
      "source": [
        "import matplotlib.pyplot as plt\n",
        "\n",
        "x = [1, 2, 3, 4, 5, 6, 7, 8, 9, 10]\n",
        "y = [2, 4, 6, 8, 10, 12, 14, 16, 18, 20]\n",
        "\n",
        "plt.scatter(x, y, color='blue', marker='o', label='Data Points')\n",
        "\n",
        "plt.title('Scatter Plot: Relationship Between Two Variables')\n",
        "plt.xlabel('Study Hours')\n",
        "plt.ylabel('Test Scores')\n",
        "\n",
        "plt.grid(alpha=0.5)\n",
        "plt.legend()\n",
        "\n",
        "plt.show()\n"
      ],
      "metadata": {
        "colab": {
          "base_uri": "https://localhost:8080/",
          "height": 472
        },
        "id": "zWxkSLhnx4AI",
        "outputId": "aea3806d-2e15-448f-d48d-4efd9c21568d"
      },
      "execution_count": 12,
      "outputs": [
        {
          "output_type": "display_data",
          "data": {
            "text/plain": [
              "<Figure size 640x480 with 1 Axes>"
            ],
            "image/png": "[encoded data removed]"
          },
          "metadata": {}
        }
      ]
    },
    {
      "cell_type": "markdown",
      "source": [
        "**12. Implement and compare simple random sampling and systematic sampling.**\n",
        "\n",
        "**Ans:**"
      ],
      "metadata": {
        "id": "oA_ZBkr0yBk8"
      }
    },
    {
      "cell_type": "code",
      "source": [
        "import random\n",
        "import numpy as np\n",
        "\n",
        "data = [1, 2, 3, 4, 5, 6, 7, 8, 9, 10]\n",
        "\n",
        "def simple_random_sampling(data, sample_size):\n",
        "    return random.sample(data, sample_size)\n",
        "\n",
        "def systematic_sampling(data, sample_size):\n",
        "    step = len(data) // sample_size\n",
        "    return [data[i] for i in range(0, len(data), step)][:sample_size]\n",
        "\n",
        "sample_size = 4\n",
        "\n",
        "simple_random_sample = simple_random_sampling(data, sample_size)\n",
        "systematic_sample = systematic_sampling(data, sample_size)\n",
        "\n",
        "print(\"Original Dataset:\", data)\n",
        "print(\"Simple Random Sample:\", simple_random_sample)\n",
        "print(\"Systematic Sample:\", systematic_sample)\n"
      ],
      "metadata": {
        "colab": {
          "base_uri": "https://localhost:8080/"
        },
        "id": "fRcQtNoHyKYD",
        "outputId": "3f66b917-0c9e-4848-fa34-1aab5414b01c"
      },
      "execution_count": 13,
      "outputs": [
        {
          "output_type": "stream",
          "name": "stdout",
          "text": [
            "Original Dataset: [1, 2, 3, 4, 5, 6, 7, 8, 9, 10]\n",
            "Simple Random Sample: [10, 4, 9, 8]\n",
            "Systematic Sample: [1, 3, 5, 7]\n"
          ]
        }
      ]
    },
    {
      "cell_type": "markdown",
      "source": [
        "**13. Calculate the mean, median, and mode of grouped data.**\n",
        "\n",
        "**Ans:**\n",
        "Suppose a survey was conducted to record the number of hours 50 students spend studying daily. The data is grouped into intervals with the following frequencies:\n",
        "\n",
        "0–2 hours: 5 students\n",
        "\n",
        "2–4 hours: 12 students\n",
        "\n",
        "4–6 hours: 18 students\n",
        "\n",
        "6–8 hours: 10 students\n",
        "\n",
        "8–10 hours: 5 students\n",
        "\n",
        "1. Mean Calculation:\n",
        "Step 1: Calculate the midpoint for each class interval:\n",
        "\n",
        "For 0–2, midpoint = (0 + 2) ÷ 2 = 1\n",
        "\n",
        "For 2–4, midpoint = (2 + 4) ÷ 2 = 3\n",
        "\n",
        "For 4–6, midpoint = (4 + 6) ÷ 2 = 5\n",
        "\n",
        "For 6–8, midpoint = (6 + 8) ÷ 2 = 7\n",
        "\n",
        "For 8–10, midpoint = (8 + 10) ÷ 2 = 9\n",
        "\n",
        "Step 2: Multiply each midpoint by the corresponding frequency:\n",
        "\n",
        "(1 × 5) + (3 × 12) + (5 × 18) + (7 × 10) + (9 × 5) = 5 + 36 + 90 + 70 + 45 = 246\n",
        "\n",
        "Step 3: Divide the total by the total frequency:\n",
        "\n",
        "Mean = Total of (Midpoint × Frequency) ÷ Total Frequency\n",
        "\n",
        "Mean = 246 ÷ 50 = 4.92 hours\n",
        "\n",
        "2. Median Calculation:\n",
        "Step 1: Find the cumulative frequencies:\n",
        "\n",
        "For the intervals: 5, 5 + 12 = 17, 17 + 18 = 35, 35 + 10 = 45, 45 + 5 = 50\n",
        "\n",
        "So, the cumulative frequencies are: 5, 17, 35, 45, 50.\n",
        "\n",
        "Step 2: Determine the median class:\n",
        "\n",
        "Total frequency = 50. Median position = N/2 = 50 ÷ 2 = 25.\n",
        "\n",
        "The class containing the 25th student is 4–6 hours (cumulative frequency = 35).\n",
        "\n",
        "Step 3: Use the median formula: Median = L + [(N/2 − F) ÷ f] × h Where:\n",
        "\n",
        "L = Lower boundary of median class = 4\n",
        "\n",
        "N = Total frequency = 50\n",
        "\n",
        "F = Cumulative frequency before the median class = 17\n",
        "\n",
        "f = Frequency of the median class = 18\n",
        "\n",
        "h = Width of class interval = 2\n",
        "\n",
        "Median = 4 + [(25 − 17) ÷ 18] × 2 Median = 4 + (8 ÷ 18) × 2 Median = 4 + 0.89 = 4.89 hours\n",
        "\n",
        "3. Mode Calculation:\n",
        "Step 1: Identify the modal class:\n",
        "\n",
        "The highest frequency is 18, so the modal class is 4–6 hours.\n",
        "\n",
        "Step 2: Use the mode formula: Mode = L + [(f₁ − f₀) ÷ ((f₁ − f₀) + (f₁ − f₂))] × h Where:\n",
        "\n",
        "L = Lower boundary of modal class = 4\n",
        "\n",
        "f₁ = Frequency of modal class = 18\n",
        "\n",
        "f₀ = Frequency of class before modal class = 12\n",
        "\n",
        "f₂ = Frequency of class after modal class = 10\n",
        "\n",
        "h = Width of class interval = 2\n",
        "\n",
        "Mode = 4 + [(18 − 12) ÷ ((18 − 12) + (18 − 10))] × 2 Mode = 4 + [6 ÷ (6 + 8)] × 2 Mode = 4 + (6 ÷ 14) × 2 Mode = 4 + 0.86 = 4.86 hours"
      ],
      "metadata": {
        "id": "8ve_re8ZySEw"
      }
    },
    {
      "cell_type": "markdown",
      "source": [
        "**14. Simulate data using Python and calculate its central tendency and dispersion.**"
      ],
      "metadata": {
        "id": "zsgAt_rqzGYr"
      }
    },
    {
      "cell_type": "code",
      "source": [
        "import numpy as np\n",
        "import statistics as stats\n",
        "import matplotlib.pyplot as plt\n",
        "\n",
        "data = np.random.normal(loc=50, scale=10, size=100)  # Mean=50, StdDev=10, 100 data points\n",
        "\n",
        "\n",
        "mean = np.mean(data)  # Mean\n",
        "median = np.median(data)  # Median\n",
        "mode = stats.mode(data)  # Mode (using statistics library)\n",
        "\n",
        "# Calculate dispersion\n",
        "variance = np.var(data)  # Variance\n",
        "std_dev = np.std(data)  # Standard deviation\n",
        "range_value = np.max(data) - np.min(data)  # Range\n",
        "\n",
        "# Print results\n",
        "print(\"Central Tendency:\")\n",
        "print(\"Mean:\", mean)\n",
        "print(\"Median:\", median)\n",
        "print(\"Mode:\", mode)\n",
        "print(\"\\nDispersion:\")\n",
        "print(\"Variance:\", variance)\n",
        "print(\"Standard Deviation:\", std_dev)\n",
        "print(\"Range:\", range_value)\n",
        "\n",
        "# Visualize the data (optional)\n",
        "plt.hist(data, bins=20, color='skyblue', edgecolor='black', alpha=0.7)\n",
        "plt.title('Histogram of Simulated Data')\n",
        "plt.xlabel('Data Values')\n",
        "plt.ylabel('Frequency')\n",
        "plt.grid(axis='y', alpha=0.75)\n",
        "plt.show()\n"
      ],
      "metadata": {
        "colab": {
          "base_uri": "https://localhost:8080/",
          "height": 633
        },
        "id": "09lEz-UNzOyx",
        "outputId": "d1565b7b-81b7-4121-ba9f-8a6c9f63a572"
      },
      "execution_count": 14,
      "outputs": [
        {
          "output_type": "stream",
          "name": "stdout",
          "text": [
            "Central Tendency:\n",
            "Mean: 48.46342904382346\n",
            "Median: 49.10123185530216\n",
            "Mode: 65.56355108467038\n",
            "\n",
            "Dispersion:\n",
            "Variance: 89.32184942936712\n",
            "Standard Deviation: 9.451023723881297\n",
            "Range: 49.0472273511467\n"
          ]
        },
        {
          "output_type": "display_data",
          "data": {
            "text/plain": [
              "<Figure size 640x480 with 1 Axes>"
            ],
            "image/png": "[encoded data removed]"
          },
          "metadata": {}
        }
      ]
    },
    {
      "cell_type": "markdown",
      "source": [
        "**15. Use NumPy or pandas to summarize a dataset’s descriptive statistics.**\n",
        "\n",
        "**Ans:**"
      ],
      "metadata": {
        "id": "ij8KNkDFzXg0"
      }
    },
    {
      "cell_type": "code",
      "source": [
        "import pandas as pd\n",
        "import numpy as np\n",
        "\n",
        "data = {\n",
        "    \"Height (cm)\": [150, 160, 170, 165, 155, 180, 175],\n",
        "    \"Weight (kg)\": [50, 60, 70, 65, 55, 80, 75],\n",
        "    \"Age (years)\": [20, 25, 30, 35, 40, 45, 50]\n",
        "}\n",
        "\n",
        "df = pd.DataFrame(data)\n",
        "\n",
        "print(\"Summary Statistics (using pandas):\")\n",
        "print(df.describe())\n",
        "\n",
        "mean_height = np.mean(df[\"Height (cm)\"])\n",
        "median_weight = np.median(df[\"Weight (kg)\"])\n",
        "std_age = np.std(df[\"Age (years)\"])\n",
        "\n",
        "print(\"\\nDescriptive Statistics (specific calculations using NumPy):\")\n",
        "print(\"Mean Height:\", mean_height)\n",
        "print(\"Median Weight:\", median_weight)\n",
        "print(\"Standard Deviation of Age:\", std_age)\n"
      ],
      "metadata": {
        "colab": {
          "base_uri": "https://localhost:8080/"
        },
        "id": "V13HEomWzk0s",
        "outputId": "660af29b-3cdd-49fa-aeca-cc224f8e861e"
      },
      "execution_count": 15,
      "outputs": [
        {
          "output_type": "stream",
          "name": "stdout",
          "text": [
            "Summary Statistics (using pandas):\n",
            "       Height (cm)  Weight (kg)  Age (years)\n",
            "count     7.000000     7.000000     7.000000\n",
            "mean    165.000000    65.000000    35.000000\n",
            "std      10.801234    10.801234    10.801234\n",
            "min     150.000000    50.000000    20.000000\n",
            "25%     157.500000    57.500000    27.500000\n",
            "50%     165.000000    65.000000    35.000000\n",
            "75%     172.500000    72.500000    42.500000\n",
            "max     180.000000    80.000000    50.000000\n",
            "\n",
            "Descriptive Statistics (specific calculations using NumPy):\n",
            "Mean Height: 165.0\n",
            "Median Weight: 65.0\n",
            "Standard Deviation of Age: 10.0\n"
          ]
        }
      ]
    },
    {
      "cell_type": "markdown",
      "source": [
        "**16. Plot a boxplot to understand the spread and identify outliers.**\n",
        "\n",
        "**Ans:**"
      ],
      "metadata": {
        "id": "dRqOhDmizttv"
      }
    },
    {
      "cell_type": "code",
      "source": [
        "import matplotlib.pyplot as plt\n",
        "import numpy as np\n",
        "\n",
        "# Simulated dataset\n",
        "data = np.random.normal(loc=50, scale=10, size=100)  # Generating data with mean=50 and std_dev=10\n",
        "\n",
        "# Create a boxplot\n",
        "plt.boxplot(data, vert=False, patch_artist=True, boxprops=dict(facecolor='skyblue'))\n",
        "plt.title('Boxplot to Understand Spread and Identify Outliers')\n",
        "plt.xlabel('Data Values')\n",
        "plt.grid(axis='x', alpha=0.75)\n",
        "\n",
        "# Show the boxplot\n",
        "plt.show()\n"
      ],
      "metadata": {
        "colab": {
          "base_uri": "https://localhost:8080/",
          "height": 472
        },
        "id": "V06eiQ64z2uF",
        "outputId": "47277adc-4de0-47a1-8aba-895f498d5b0e"
      },
      "execution_count": 16,
      "outputs": [
        {
          "output_type": "display_data",
          "data": {
            "text/plain": [
              "<Figure size 640x480 with 1 Axes>"
            ],
            "image/png": "[encoded data removed]"
          },
          "metadata": {}
        }
      ]
    },
    {
      "cell_type": "markdown",
      "source": [
        "**17.  Calculate the interquartile range (IQR) of a dataset.**\n",
        "\n",
        "**Ans:**"
      ],
      "metadata": {
        "id": "XEmcJKwiz5cW"
      }
    },
    {
      "cell_type": "code",
      "source": [
        "import numpy as np\n",
        "data = [6, 7, 15, 36, 39, 40, 41, 42, 43, 47, 49]\n",
        "q1 = np.percentile(data, 25)\n",
        "q3 = np.percentile(data, 75)\n",
        "\n",
        "iqr = q3 - q1\n",
        "\n",
        "print(\"Dataset:\", data)\n",
        "print(\"First Quartile (Q1):\", q1)\n",
        "print(\"Third Quartile (Q3):\", q3)\n",
        "print(\"Interquartile Range (IQR):\", iqr)\n"
      ],
      "metadata": {
        "colab": {
          "base_uri": "https://localhost:8080/"
        },
        "id": "dr8fCxMf0E6Q",
        "outputId": "81421405-e7ec-4ab6-afac-7ca0ebc5ffee"
      },
      "execution_count": 17,
      "outputs": [
        {
          "output_type": "stream",
          "name": "stdout",
          "text": [
            "Dataset: [6, 7, 15, 36, 39, 40, 41, 42, 43, 47, 49]\n",
            "First Quartile (Q1): 25.5\n",
            "Third Quartile (Q3): 42.5\n",
            "Interquartile Range (IQR): 17.0\n"
          ]
        }
      ]
    },
    {
      "cell_type": "markdown",
      "source": [
        "**18.  Implement Z-score normalization and explain its significance.**\n",
        "\n",
        "**Ans:**\n",
        "**Significance of Z-score Normalization:**\n",
        "\n",
        "Removes Scale Dependency: Ensures that variables with different units (e.g., height in cm vs weight in kg) are scaled equally for analysis.\n",
        "\n",
        "Improves Model Performance: Many machine learning algorithms perform better on standardized data.\n",
        "\n",
        "Outlier Detection: Z-scores highlight how far data points deviate from the mean, helping identify anomalies.\n",
        "\n",
        "Enables Comparison: Standardization allows fair comparison between different datasets."
      ],
      "metadata": {
        "id": "VPlQWTE30MWz"
      }
    },
    {
      "cell_type": "code",
      "source": [
        "import numpy as np\n",
        "\n",
        "data = [10, 20, 30, 40, 50]\n",
        "\n",
        "mean = np.mean(data)\n",
        "std_dev = np.std(data)\n",
        "\n",
        "z_scores = [(x - mean) / std_dev for x in data]\n",
        "\n",
        "print(\"Original Data:\", data)\n",
        "print(\"Mean:\", mean)\n",
        "print(\"Standard Deviation:\", std_dev)\n",
        "print(\"Z-scores (Normalized Data):\", z_scores)\n"
      ],
      "metadata": {
        "colab": {
          "base_uri": "https://localhost:8080/"
        },
        "id": "gKvPF--n0kSV",
        "outputId": "dccb5a45-3cfe-4de6-ee51-ff399bb7396d"
      },
      "execution_count": 18,
      "outputs": [
        {
          "output_type": "stream",
          "name": "stdout",
          "text": [
            "Original Data: [10, 20, 30, 40, 50]\n",
            "Mean: 30.0\n",
            "Standard Deviation: 14.142135623730951\n",
            "Z-scores (Normalized Data): [np.float64(-1.414213562373095), np.float64(-0.7071067811865475), np.float64(0.0), np.float64(0.7071067811865475), np.float64(1.414213562373095)]\n"
          ]
        }
      ]
    },
    {
      "cell_type": "markdown",
      "source": [
        "**19. Compare two datasets using their standard deviations.**\n",
        "\n",
        "**Ans:**"
      ],
      "metadata": {
        "id": "DCs2bFtY0q6M"
      }
    },
    {
      "cell_type": "code",
      "source": [
        "import numpy as np\n",
        "\n",
        "# Example datasets\n",
        "dataset1 = [10, 12, 14, 16, 18, 20]\n",
        "dataset2 = [5, 15, 25, 35, 45, 55]\n",
        "\n",
        "# Calculate standard deviations\n",
        "std_dev1 = np.std(dataset1)\n",
        "std_dev2 = np.std(dataset2)\n",
        "\n",
        "# Output the results\n",
        "print(\"Dataset 1:\", dataset1)\n",
        "print(\"Standard Deviation of Dataset 1:\", std_dev1)\n",
        "print(\"\\nDataset 2:\", dataset2)\n",
        "print(\"Standard Deviation of Dataset 2:\", std_dev2)\n",
        "\n",
        "# Comparison\n",
        "if std_dev1 < std_dev2:\n",
        "    print(\"\\nDataset 1 is more consistent (less spread out) than Dataset 2.\")\n",
        "elif std_dev1 > std_dev2:\n",
        "    print(\"\\nDataset 2 is more consistent (less spread out) than Dataset 1.\")\n",
        "else:\n",
        "    print(\"\\nBoth datasets have equal consistency (similar spread).\")\n"
      ],
      "metadata": {
        "colab": {
          "base_uri": "https://localhost:8080/"
        },
        "id": "OtWnEsRK06JL",
        "outputId": "e5ecf299-8b0b-4d2c-8f2f-2cc6418c37f7"
      },
      "execution_count": 19,
      "outputs": [
        {
          "output_type": "stream",
          "name": "stdout",
          "text": [
            "Dataset 1: [10, 12, 14, 16, 18, 20]\n",
            "Standard Deviation of Dataset 1: 3.415650255319866\n",
            "\n",
            "Dataset 2: [5, 15, 25, 35, 45, 55]\n",
            "Standard Deviation of Dataset 2: 17.07825127659933\n",
            "\n",
            "Dataset 1 is more consistent (less spread out) than Dataset 2.\n"
          ]
        }
      ]
    },
    {
      "cell_type": "markdown",
      "source": [
        "**20. Write a Python program to visualize covariance using a heatmap.**\n",
        "\n",
        "**Ans:**"
      ],
      "metadata": {
        "id": "e6xNY3Sy07uG"
      }
    },
    {
      "cell_type": "code",
      "source": [
        "import numpy as np\n",
        "import pandas as pd\n",
        "import seaborn as sns\n",
        "import matplotlib.pyplot as plt\n",
        "\n",
        "data = {\n",
        "    \"Variable A\": [10, 20, 30, 40, 50],\n",
        "    \"Variable B\": [15, 25, 35, 45, 55],\n",
        "    \"Variable C\": [5, 10, 15, 20, 25]\n",
        "}\n",
        "\n",
        "df = pd.DataFrame(data)\n",
        "\n",
        "cov_matrix = df.cov()\n",
        "\n",
        "print(\"Covariance Matrix:\")\n",
        "print(cov_matrix)\n",
        "\n",
        "plt.figure(figsize=(6, 4))\n",
        "sns.heatmap(cov_matrix, annot=True, cmap=\"coolwarm\", fmt=\".2f\", cbar=True)\n",
        "plt.title('Covariance Heatmap')\n",
        "plt.show()\n"
      ],
      "metadata": {
        "colab": {
          "base_uri": "https://localhost:8080/",
          "height": 480
        },
        "id": "H4ibXHLn1OMJ",
        "outputId": "bb8f4a6f-cc89-42fc-9e3e-c35d7a04dc08"
      },
      "execution_count": 20,
      "outputs": [
        {
          "output_type": "stream",
          "name": "stdout",
          "text": [
            "Covariance Matrix:\n",
            "            Variable A  Variable B  Variable C\n",
            "Variable A       250.0       250.0       125.0\n",
            "Variable B       250.0       250.0       125.0\n",
            "Variable C       125.0       125.0        62.5\n"
          ]
        },
        {
          "output_type": "display_data",
          "data": {
            "text/plain": [
              "<Figure size 600x400 with 2 Axes>"
            ],
            "image/png": "[encoded data removed]"
          },
          "metadata": {}
        }
      ]
    },
    {
      "cell_type": "markdown",
      "source": [
        "**21. Use seaborn to create a correlation matrix for a dataset.**\n",
        "\n",
        "**Ans:**"
      ],
      "metadata": {
        "id": "8_0Iv96N1VoC"
      }
    },
    {
      "cell_type": "code",
      "source": [
        "import pandas as pd\n",
        "import seaborn as sns\n",
        "import matplotlib.pyplot as plt\n",
        "\n",
        "data = {\n",
        "    \"Sales\": [200, 220, 250, 270, 300],\n",
        "    \"Profit\": [50, 60, 65, 70, 80],\n",
        "    \"Expenses\": [150, 160, 180, 200, 220],\n",
        "    \"Employees\": [10, 12, 14, 16, 18]\n",
        "}\n",
        "\n",
        "df = pd.DataFrame(data)\n",
        "\n",
        "correlation_matrix = df.corr()\n",
        "\n",
        "print(\"Correlation Matrix:\")\n",
        "print(correlation_matrix)\n",
        "\n",
        "plt.figure(figsize=(8, 6))\n",
        "sns.heatmap(correlation_matrix, annot=True, cmap=\"coolwarm\", fmt=\".2f\", linewidths=0.5)\n",
        "plt.title(\"Correlation Matrix Heatmap\")\n",
        "plt.show()\n"
      ],
      "metadata": {
        "colab": {
          "base_uri": "https://localhost:8080/",
          "height": 652
        },
        "id": "AQczPR2s1fTk",
        "outputId": "4a58d2f3-5b94-43ef-8c00-e1fa6949b8d3"
      },
      "execution_count": 21,
      "outputs": [
        {
          "output_type": "stream",
          "name": "stdout",
          "text": [
            "Correlation Matrix:\n",
            "              Sales    Profit  Expenses  Employees\n",
            "Sales      1.000000  0.987582  0.995914   0.997609\n",
            "Profit     0.987582  1.000000  0.976086   0.989949\n",
            "Expenses   0.995914  0.976086  1.000000   0.993884\n",
            "Employees  0.997609  0.989949  0.993884   1.000000\n"
          ]
        },
        {
          "output_type": "display_data",
          "data": {
            "text/plain": [
              "<Figure size 800x600 with 2 Axes>"
            ],
            "image/png": "[encoded data removed]"
          },
          "metadata": {}
        }
      ]
    },
    {
      "cell_type": "markdown",
      "source": [
        "**22.  Generate a dataset and implement both variance and standard deviation computations.**\n",
        "\n",
        "**Ans:**"
      ],
      "metadata": {
        "id": "4yaoik9S12eW"
      }
    },
    {
      "cell_type": "code",
      "source": [
        "import numpy as np\n",
        "\n",
        "data = np.random.randint(10, 100, size=10)\n",
        "\n",
        "variance = np.var(data)\n",
        "\n",
        "std_dev = np.std(data)\n",
        "\n",
        "print(\"Generated Dataset:\", data)\n",
        "print(\"Variance:\", variance)\n",
        "print(\"Standard Deviation:\", std_dev)\n"
      ],
      "metadata": {
        "colab": {
          "base_uri": "https://localhost:8080/"
        },
        "id": "cJiamy4M2Cmi",
        "outputId": "17b46aa8-3136-400d-fb85-c960178954e0"
      },
      "execution_count": 22,
      "outputs": [
        {
          "output_type": "stream",
          "name": "stdout",
          "text": [
            "Generated Dataset: [38 16 29 20 34 88 36 60 95 77]\n",
            "Variance: 738.6099999999999\n",
            "Standard Deviation: 27.177380300536694\n"
          ]
        }
      ]
    },
    {
      "cell_type": "markdown",
      "source": [
        "**23. Visualize skewness and kurtosis using Python libraries like matplotlib or seaborn.**\n",
        "\n",
        "**Ans:**"
      ],
      "metadata": {
        "id": "ckdPSC9c2Jye"
      }
    },
    {
      "cell_type": "code",
      "source": [
        "import numpy as np\n",
        "import seaborn as sns\n",
        "import matplotlib.pyplot as plt\n",
        "from scipy.stats import skew, kurtosis\n",
        "\n",
        "data = np.random.exponential(scale=2, size=1000)  # Exponentially distributed data (right-skewed)\n",
        "\n",
        "data_skewness = skew(data)\n",
        "data_kurtosis = kurtosis(data)\n",
        "\n",
        "plt.figure(figsize=(10, 6))\n",
        "sns.histplot(data, kde=True, color='skyblue', bins=30)  # Histogram with KDE (Kernel Density Estimation)\n",
        "plt.title(f\"Distribution (Skewness: {data_skewness:.2f}, Kurtosis: {data_kurtosis:.2f})\")\n",
        "plt.xlabel(\"Data Values\")\n",
        "plt.ylabel(\"Frequency\")\n",
        "plt.grid(axis='y', alpha=0.75)\n",
        "plt.show()\n"
      ],
      "metadata": {
        "colab": {
          "base_uri": "https://localhost:8080/",
          "height": 564
        },
        "id": "UGaijPHj2UgD",
        "outputId": "178e4712-e3c4-48a2-be08-8937cdc172ba"
      },
      "execution_count": 23,
      "outputs": [
        {
          "output_type": "display_data",
          "data": {
            "text/plain": [
              "<Figure size 1000x600 with 1 Axes>"
            ],
            "image/png": "[encoded data removed]"
          },
          "metadata": {}
        }
      ]
    },
    {
      "cell_type": "markdown",
      "source": [
        "**24. Implement the Pearson and Spearman correlation coefficients for a dataset.**\n",
        "\n",
        "**Ans:**"
      ],
      "metadata": {
        "id": "rZ7TnWhK2YqM"
      }
    },
    {
      "cell_type": "code",
      "source": [
        "import numpy as np\n",
        "from scipy.stats import pearsonr, spearmanr\n",
        "\n",
        "x = [10, 20, 30, 40, 50]\n",
        "y = [15, 25, 35, 45, 55]\n",
        "\n",
        "pearson_corr, pearson_p_value = pearsonr(x, y)\n",
        "\n",
        "spearman_corr, spearman_p_value = spearmanr(x, y)\n",
        "\n",
        "print(\"Pearson Correlation Coefficient:\", pearson_corr)\n",
        "print(\"Pearson p-value:\", pearson_p_value)\n",
        "\n",
        "print(\"\\nSpearman Correlation Coefficient:\", spearman_corr)\n",
        "print(\"Spearman p-value:\", spearman_p_value)\n"
      ],
      "metadata": {
        "colab": {
          "base_uri": "https://localhost:8080/"
        },
        "id": "vqJxAkws2gsg",
        "outputId": "1752e305-b70d-4462-95f5-65047d229c94"
      },
      "execution_count": 24,
      "outputs": [
        {
          "output_type": "stream",
          "name": "stdout",
          "text": [
            "Pearson Correlation Coefficient: 0.9999999999999998\n",
            "Pearson p-value: 3.971862410081708e-24\n",
            "\n",
            "Spearman Correlation Coefficient: 0.9999999999999999\n",
            "Spearman p-value: 1.4042654220543672e-24\n"
          ]
        }
      ]
    }
  ]
}